{
 "cells": [
  {
   "cell_type": "code",
   "execution_count": 1,
   "id": "63d78c5c",
   "metadata": {},
   "outputs": [],
   "source": [
    "import numpy as np\n",
    "import matplotlib.pyplot as plt\n",
    "plt.rcParams[\"figure.figsize\"] = (10,10)"
   ]
  },
  {
   "cell_type": "markdown",
   "id": "8537830d",
   "metadata": {},
   "source": [
    "## Exercise 2a)\n",
    "\n",
    "Below you find the function signature for `gen_exponential`. It should generate `num_samples` of samples that are drawn from an exponential distribution parametrized by a $\\lambda$ value `lambda_val`. Store these samples in the existing array `samples`."
   ]
  },
  {
   "cell_type": "code",
   "execution_count": 2,
   "id": "0756a554",
   "metadata": {},
   "outputs": [],
   "source": [
    "def gen_exponential(num_samples, lambda_val=1):\n",
    "    samples = np.zeros((num_samples, ))\n",
    "    \n",
    "    # TODO: implement this function\n",
    "    \n",
    "    return samples"
   ]
  },
  {
   "cell_type": "markdown",
   "id": "fca45925",
   "metadata": {},
   "source": [
    "## Exercise 2b)\n",
    "\n",
    "Below you find the function signature for `gen_gaussian`. It should generate `num_samples` of samples that \n",
    "are drawn from a gaussian distribution with a mean of `mean` and a standart deviation of `stdev`. Store these samples in the existing array `samples`."
   ]
  },
  {
   "cell_type": "code",
   "execution_count": 3,
   "id": "e4ac1aa7",
   "metadata": {},
   "outputs": [],
   "source": [
    "def gen_gaussian(num_samples, mean, stdev):\n",
    "    samples = np.zeros((num_samples, ))\n",
    "    \n",
    "    # TODO: implement this function\n",
    "    \n",
    "    return samples"
   ]
  },
  {
   "cell_type": "markdown",
   "id": "0ede1944",
   "metadata": {},
   "source": [
    "## Exercise 2c)\n",
    "\n",
    "Below you find the function signature for `plot_sample_hist`. Implement it such that it uses `matplotlib.pyplot` to plot the samples as a bar diagram in color `color` and with `bins` as number of bins. "
   ]
  },
  {
   "cell_type": "code",
   "execution_count": 4,
   "id": "a02051de",
   "metadata": {},
   "outputs": [],
   "source": [
    "def plot_sample_hist(samples, color='b', bins=100):\n",
    "    # TODO: implement this function\n",
    "    \n",
    "    plt.show()"
   ]
  },
  {
   "cell_type": "markdown",
   "id": "54fac8ac",
   "metadata": {},
   "source": [
    "## Exercise 2d)\n",
    "\n",
    "Run the code in the below cell. If you implemented the above functions correctly, it should generate 10000 samples from an exponential and from a gaussian distribution and plot the resulting histograms.\n",
    "\n",
    "Change the parameters of the distributions. How does that change the drawn samples? In which scenarios could these distributions be used?"
   ]
  },
  {
   "cell_type": "code",
   "execution_count": 5,
   "id": "2d0de76c",
   "metadata": {},
   "outputs": [],
   "source": [
    "exp_samples = gen_exponential(num_samples=10000, lambda_val=0.1)\n",
    "plot_sample_hist(exp_samples)\n",
    "gaussian_samples1 = gen_gaussian(num_samples=10000, mean=20, stdev=3.5)\n",
    "plot_sample_hist(gaussian_samples1)"
   ]
  },
  {
   "cell_type": "code",
   "execution_count": null,
   "id": "7d83ba79",
   "metadata": {},
   "outputs": [],
   "source": []
  },
  {
   "cell_type": "code",
   "execution_count": null,
   "id": "1135b541",
   "metadata": {},
   "outputs": [],
   "source": []
  }
 ],
 "metadata": {
  "kernelspec": {
   "display_name": "Python 3 (ipykernel)",
   "language": "python",
   "name": "python3"
  },
  "language_info": {
   "codemirror_mode": {
    "name": "ipython",
    "version": 3
   },
   "file_extension": ".py",
   "mimetype": "text/x-python",
   "name": "python",
   "nbconvert_exporter": "python",
   "pygments_lexer": "ipython3",
   "version": "3.9.7"
  }
 },
 "nbformat": 4,
 "nbformat_minor": 5
}
