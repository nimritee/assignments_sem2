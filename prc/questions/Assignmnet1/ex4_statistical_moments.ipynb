{
 "cells": [
  {
   "cell_type": "code",
   "execution_count": null,
   "id": "be90889c",
   "metadata": {},
   "outputs": [],
   "source": [
    "import numpy as np\n",
    "import matplotlib.pyplot as plt"
   ]
  },
  {
   "cell_type": "markdown",
   "id": "e05ed2f4",
   "metadata": {},
   "source": [
    "## Exercise 4a) \n",
    "\n",
    "Implement the function `absolute_moment` below. Given a set of samples `samples` from an arbitrary distribution and a parameter `k` it should return the `k`-th absolute moment of the samples.  "
   ]
  },
  {
   "cell_type": "code",
   "execution_count": null,
   "id": "7ace880f",
   "metadata": {},
   "outputs": [],
   "source": [
    "def absolute_moment(samples, k):\n",
    "    # TODO: implement this function"
   ]
  },
  {
   "cell_type": "markdown",
   "id": "621e85ab",
   "metadata": {},
   "source": [
    "## Exercise 4b)\n",
    "\n",
    "Implement the function `central_moment` below. Given a set of samples `samples` from an arbitrary distribution and a parameter `k` it should return the `k`-th central moment of the samples.  "
   ]
  },
  {
   "cell_type": "code",
   "execution_count": null,
   "id": "2b807eed",
   "metadata": {},
   "outputs": [],
   "source": [
    "def central_moment(samples, k):\n",
    "    # TODO: implement this function"
   ]
  },
  {
   "cell_type": "markdown",
   "id": "d4118ee0",
   "metadata": {},
   "source": [
    "## Exercise 4c)\n",
    "\n",
    "Implement the function `standardized_moment` below. Given a set of samples `samples` from an arbitrary distribution and a parameter `k` it should return the `k`-th [standardized moment](https://en.wikipedia.org/wiki/Standardized_moment) of the samples.  "
   ]
  },
  {
   "cell_type": "code",
   "execution_count": null,
   "id": "99a49bc8",
   "metadata": {},
   "outputs": [],
   "source": [
    "def standardized_moment(samples, k):\n",
    "    # TODO: implement this function"
   ]
  },
  {
   "cell_type": "markdown",
   "id": "acc043eb",
   "metadata": {},
   "source": [
    "## Exercise 4d)\n",
    "\n",
    "Below multiple sets of samples are drawn from different distributions with different parameters. Plot the histograms of these sample sets and use the functions you implemented above to calculate mean, variance, skewness and kurtosis."
   ]
  },
  {
   "cell_type": "code",
   "execution_count": null,
   "id": "2bfaf56d",
   "metadata": {},
   "outputs": [],
   "source": [
    "# Sample 10000 samples from different distributions with different parameters\n",
    "gaussian_samples1 = np.random.normal(0, 1, 10000)\n",
    "gaussian_samples2 = np.random.normal(0, 0.001, 10000)\n",
    "beta_samples1 = np.random.beta(1.5,3, 10000)\n",
    "beta_samples2 = np.random.beta(3,1.5, 10000)\n",
    "laplacian_samples1 = np.random.laplace(0, 1, 10000)\n",
    "laplacian_samples2 = np.random.laplace(0, 5, 10000)"
   ]
  },
  {
   "cell_type": "code",
   "execution_count": null,
   "id": "51196c7f",
   "metadata": {},
   "outputs": [],
   "source": [
    "# TODO: Add your code below"
   ]
  },
  {
   "cell_type": "code",
   "execution_count": null,
   "id": "946a8246",
   "metadata": {},
   "outputs": [],
   "source": []
  }
 ],
 "metadata": {
  "kernelspec": {
   "display_name": "Python 3 (ipykernel)",
   "language": "python",
   "name": "python3"
  },
  "language_info": {
   "codemirror_mode": {
    "name": "ipython",
    "version": 3
   },
   "file_extension": ".py",
   "mimetype": "text/x-python",
   "name": "python",
   "nbconvert_exporter": "python",
   "pygments_lexer": "ipython3",
   "version": "3.9.7"
  }
 },
 "nbformat": 4,
 "nbformat_minor": 5
}
